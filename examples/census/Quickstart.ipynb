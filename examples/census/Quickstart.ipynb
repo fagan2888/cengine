{
 "cells": [
  {
   "cell_type": "markdown",
   "metadata": {},
   "source": [
    "# Login"
   ]
  },
  {
   "cell_type": "code",
   "execution_count": null,
   "metadata": {},
   "outputs": [],
   "source": [
    "import cengine\n",
    "\n",
    "client = cengine.Client(username='USERNAME', \n",
    "                        password='PASSWORD')"
   ]
  },
  {
   "cell_type": "markdown",
   "metadata": {},
   "source": [
    "# Providers"
   ]
  },
  {
   "cell_type": "code",
   "execution_count": 1,
   "metadata": {},
   "outputs": [],
   "source": [
    "BUCKET_NAME ='gs://BUCKET_NAME'\n",
    "SERVICE_ACCOUNT = '/SERVICE_ACCOUNT.json'\n",
    "PROVIDER_NAME = 'PROVIDER_NAME'"
   ]
  },
  {
   "cell_type": "code",
   "execution_count": null,
   "metadata": {},
   "outputs": [],
   "source": [
    "my_provider = client.create_provider(name=PROVIDER_NAME, \n",
    "                                     provider_type='gcp', \n",
    "                                     args={'service_account': SERVICE_ACCOUNT, \n",
    "                                           'artifact_store': BUCKET_NAME})"
   ]
  },
  {
   "cell_type": "markdown",
   "metadata": {},
   "source": [
    "# Workspaces"
   ]
  },
  {
   "cell_type": "code",
   "execution_count": null,
   "metadata": {
    "scrolled": true
   },
   "outputs": [],
   "source": [
    "# Create a workspace\n",
    "active_workspace = client.create_workspace(name=\"HelloWorkspace\", \n",
    "                                           provider_id=my_provider.id)\n",
    "\n",
    "print(active_workspace)"
   ]
  },
  {
   "cell_type": "markdown",
   "metadata": {},
   "source": [
    "# Datasources"
   ]
  },
  {
   "cell_type": "code",
   "execution_count": null,
   "metadata": {},
   "outputs": [],
   "source": [
    "new_datasource = client.create_datasource(name='QuickstartDataset',\n",
    "                                          provider_id=my_provider.id,\n",
    "                                          source='bq',\n",
    "                                          type='tabular', \n",
    "                                          args={\"dataset\": \"ml_datasets\", \n",
    "                                                \"table\": \"census_adult_income\", \n",
    "                                                \"project\": \"bigquery-public-data\"})\n",
    "                                                \n",
    "print(new_datasource)"
   ]
  },
  {
   "cell_type": "code",
   "execution_count": null,
   "metadata": {},
   "outputs": [],
   "source": [
    "new_datasource_commit = client.commit_datasource(new_datasource.id)\n",
    "\n",
    "print(new_datasource_commit)"
   ]
  },
  {
   "cell_type": "code",
   "execution_count": null,
   "metadata": {},
   "outputs": [],
   "source": [
    "sample = client.peek_datasource_commit(new_datasource.id, \n",
    "                                       new_datasource_commit.id)\n",
    "                                       \n",
    "print(sample)"
   ]
  },
  {
   "cell_type": "markdown",
   "metadata": {},
   "source": [
    "# Pipelines"
   ]
  },
  {
   "cell_type": "code",
   "execution_count": null,
   "metadata": {},
   "outputs": [],
   "source": [
    "from cengine import PipelineConfig\n",
    "\n",
    "# Start with a template\n",
    "c = PipelineConfig.from_datasource(client=client,\n",
    "                                   datasource_id=new_datasource.id,\n",
    "                                   commit_id=new_datasource_commit.id)\n",
    "\n",
    "# Configure you dataset split\n",
    "c.split.categorize.by = 'marital_status'\n",
    "c.split.ratio = {'train': 0.8, 'eval': 0.2}\n",
    "\n",
    "# Configure non-default preprocessing with a built-in method\n",
    "c.features['education_num'].transform.add_methods(\n",
    "    {'method':'compute_and_apply_vocabulary'})\n",
    "    \n",
    "# Configure your labels\n",
    "del c.features.income_bracket\n",
    "c.labels.add(['income_bracket'])\n",
    "\n",
    "# Configure your evaluation\n",
    "del c.features.native_country\n",
    "c.evaluator.slices = [['native_country']]\n",
    "c.evaluator.metrics = ['binary_accuracy']\n",
    "\n",
    "# Configure your training with a built-in model\n",
    "c.trainer.fn = 'feedforward'\n",
    "c.trainer.params = {'epochs': 25,\n",
    "                    'input_units': 13,\n",
    "                    'output_units': 1,\n",
    "                    'loss': 'binary_crossentropy',\n",
    "                    'metrics': ['binary_accuracy'],\n",
    "                    'batch_size': 16,\n",
    "                    'lr': 0.0005}"
   ]
  },
  {
   "cell_type": "markdown",
   "metadata": {},
   "source": [
    "#### Final config"
   ]
  },
  {
   "cell_type": "code",
   "execution_count": null,
   "metadata": {},
   "outputs": [],
   "source": [
    "print(c)"
   ]
  },
  {
   "cell_type": "markdown",
   "metadata": {},
   "source": [
    "#### Register and train a pipeline"
   ]
  },
  {
   "cell_type": "code",
   "execution_count": null,
   "metadata": {},
   "outputs": [],
   "source": [
    "first_pipeline = client.push_pipeline(name='QuickStartPipeline',\n",
    "                                      config=c,\n",
    "                                      workspace_id=active_workspace.id)"
   ]
  },
  {
   "cell_type": "code",
   "execution_count": null,
   "metadata": {
    "scrolled": false
   },
   "outputs": [],
   "source": [
    "first_pipeline_run = client.train_pipeline(pipeline_id=first_pipeline.id,\n",
    "                                           datasource_commit_id=new_datasource_commit.id)"
   ]
  },
  {
   "cell_type": "markdown",
   "metadata": {},
   "source": [
    "#### Check pipeline status"
   ]
  },
  {
   "cell_type": "code",
   "execution_count": null,
   "metadata": {},
   "outputs": [],
   "source": [
    "client.get_pipeline_status(workspace_id=active_workspace.id)"
   ]
  },
  {
   "cell_type": "code",
   "execution_count": null,
   "metadata": {
    "scrolled": true
   },
   "outputs": [],
   "source": [
    "client.get_pipeline_run_logs(pipeline_id=first_pipeline.id, \n",
    "                             pipeline_run_id=first_pipeline_run.id)"
   ]
  },
  {
   "cell_type": "markdown",
   "metadata": {},
   "source": [
    "#### Check the statistics"
   ]
  },
  {
   "cell_type": "code",
   "execution_count": null,
   "metadata": {},
   "outputs": [],
   "source": [
    "client.get_statistics(pipeline_id=first_pipeline.id,\n",
    "                      pipeline_run_id=first_pipeline_run.id,\n",
    "                      magic=True)"
   ]
  },
  {
   "cell_type": "markdown",
   "metadata": {},
   "source": [
    "#### See the results"
   ]
  },
  {
   "cell_type": "code",
   "execution_count": null,
   "metadata": {},
   "outputs": [],
   "source": [
    "client.evaluate_single_pipeline(pipeline_id=first_pipeline.id,\n",
    "                                pipeline_run_id=first_pipeline_run.id,\n",
    "                                magic=True)"
   ]
  },
  {
   "cell_type": "markdown",
   "metadata": {},
   "source": [
    "#### Download the model"
   ]
  },
  {
   "cell_type": "code",
   "execution_count": null,
   "metadata": {},
   "outputs": [],
   "source": [
    "import os \n",
    "\n",
    "client.download_model(pipeline_id=first_pipeline.id, \n",
    "                      pipeline_run_id=first_pipeline_run.id,\n",
    "                      output_path=os.path.join(os.getcwd(), 'model'))"
   ]
  },
  {
   "cell_type": "code",
   "execution_count": null,
   "metadata": {},
   "outputs": [],
   "source": [
    "!find model"
   ]
  },
  {
   "cell_type": "markdown",
   "metadata": {},
   "source": [
    "#### Iterate"
   ]
  },
  {
   "cell_type": "code",
   "execution_count": null,
   "metadata": {},
   "outputs": [],
   "source": [
    "second_config = client.pull_pipeline(pipeline_id=first_pipeline.id)\n",
    "\n",
    "second_config.trainer.params['batch_size'] = 32"
   ]
  },
  {
   "cell_type": "code",
   "execution_count": null,
   "metadata": {},
   "outputs": [],
   "source": [
    "second_pipeline = client.push_pipeline(name='SecondPipeline',\n",
    "                                       config=second_config,\n",
    "                                       workspace_id=active_workspace.id)"
   ]
  },
  {
   "cell_type": "code",
   "execution_count": null,
   "metadata": {},
   "outputs": [],
   "source": [
    "second_pipeline_run = client.train_pipeline(\n",
    "    pipeline_id=second_pipeline.id,\n",
    "    datasource_commit_id=new_datasource_commit.id)"
   ]
  }
 ],
 "metadata": {
  "kernelspec": {
   "display_name": "Python 3",
   "language": "python",
   "name": "python3"
  },
  "language_info": {
   "codemirror_mode": {
    "name": "ipython",
    "version": 3
   },
   "file_extension": ".py",
   "mimetype": "text/x-python",
   "name": "python",
   "nbconvert_exporter": "python",
   "pygments_lexer": "ipython3",
   "version": "3.7.6"
  }
 },
 "nbformat": 4,
 "nbformat_minor": 4
}
